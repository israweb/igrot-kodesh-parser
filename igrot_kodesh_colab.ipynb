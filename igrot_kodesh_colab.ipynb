{
  "cells": [
    {
      "cell_type": "markdown",
      "metadata": {},
      "source": [
        "# 📚 Igrot Kodesh Parser - Google Colab\n",
        "\n",
        "Парсер для автоматического извлечения писем из אגרות קודש с сайта Chabad.org\n",
        "\n",
        "**GitHub:** https://github.com/israweb/igrot-kodesh-parser\n"
      ]
    },
    {
      "cell_type": "markdown",
      "metadata": {},
      "source": [
        "## 🔧 Установка зависимостей\n"
      ]
    },
    {
      "cell_type": "code",
      "execution_count": null,
      "metadata": {},
      "outputs": [],
      "source": [
        "# Установка необходимых пакетов\n",
        "!pip install selenium beautifulsoup4 requests lxml\n",
        "\n",
        "# Установка Chrome WebDriver\n",
        "!apt-get update\n",
        "!apt install chromium-chromedriver\n",
        "!cp /usr/lib/chromium-browser/chromedriver /usr/bin\n",
        "\n",
        "print(\"✅ Все зависимости установлены!\")\n"
      ]
    },
    {
      "cell_type": "markdown",
      "metadata": {},
      "source": [
        "## 📥 Загрузка проекта с GitHub\n"
      ]
    },
    {
      "cell_type": "code",
      "execution_count": null,
      "metadata": {},
      "outputs": [],
      "source": [
        "# Клонирование репозитория\n",
        "!git clone https://github.com/israweb/igrot-kodesh-parser.git\n",
        "%cd igrot-kodesh-parser\n",
        "\n",
        "# Проверка структуры проекта\n",
        "!ls -la\n",
        "print(\"\\n📁 Содержимое папки main/:\")\n",
        "!ls -la main/\n",
        "print(\"\\n📁 Содержимое папки tests/:\")\n",
        "!ls -la tests/\n"
      ]
    },
    {
      "cell_type": "markdown",
      "metadata": {},
      "source": [
        "## 🧪 Тест парсера (10 писем)\n"
      ]
    },
    {
      "cell_type": "code",
      "execution_count": null,
      "metadata": {},
      "outputs": [],
      "source": [
        "# Настройка окружения\n",
        "import sys\n",
        "import os\n",
        "\n",
        "# Добавление путей к модулям\n",
        "sys.path.append('/content/igrot-kodesh-parser/main')\n",
        "sys.path.append('/content/igrot-kodesh-parser/tests')\n",
        "\n",
        "# Создание необходимых папок\n",
        "os.makedirs('logs', exist_ok=True)\n",
        "os.makedirs('reports', exist_ok=True)\n",
        "os.makedirs('test_reports', exist_ok=True)\n",
        "\n",
        "print(\"✅ Окружение настроено!\")\n",
        "\n",
        "# Тестовый запуск на 10 письмах\n",
        "%cd tests\n",
        "!python test_10_letters.py\n",
        "\n",
        "print(\"\\n📊 Результаты теста:\")\n",
        "!ls -la test_reports/\n"
      ]
    },
    {
      "cell_type": "markdown",
      "metadata": {},
      "source": []
    }
  ],
  "metadata": {
    "language_info": {
      "name": "python"
    }
  },
  "nbformat": 4,
  "nbformat_minor": 2
}
