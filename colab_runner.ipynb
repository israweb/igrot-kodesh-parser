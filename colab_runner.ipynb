{
  "cells": [
    {
      "cell_type": "markdown",
      "metadata": {},
      "source": [
        "# 📚 איגרות קודש – הפעלה ב-Colab\n",
        "המחברת מתקינה תלותים, מגדירה מפתחות Supabase, ומריצה פרסור מלא.\n"
      ]
    },
    {
      "cell_type": "code",
      "execution_count": null,
      "metadata": {},
      "outputs": [],
      "source": [
        "# 1) התקנת תלותים\n",
        "!apt-get update -y > /dev/null 2>&1 || true\n",
        "!apt-get install -y chromium-browser chromium-chromedriver > /dev/null 2>&1 || true\n",
        "!pip -q install -U pip\n",
        "!pip -q install -U selenium supabase python-dotenv bs4 lxml requests\n"
      ]
    },
    {
      "cell_type": "code",
      "execution_count": null,
      "metadata": {},
      "outputs": [],
      "source": [
        "# 2) משתני סביבה ל-Chrome\n",
        "import os\n",
        "os.environ['CHROMEDRIVER_PATH'] = '/usr/bin/chromedriver'\n",
        "os.environ['CHROME_BINARY'] = '/usr/bin/chromium-browser'\n",
        "print('✅ Chrome for Colab מוגדר')\n"
      ]
    },
    {
      "cell_type": "code",
      "execution_count": null,
      "metadata": {},
      "outputs": [],
      "source": [
        "# 3) הגדרת מפתחות Supabase (הדביקו כאן)\n",
        "import os\n",
        "SUPABASE_URL = 'PASTE_YOUR_URL_HERE'\n",
        "SUPABASE_ANON_KEY = 'PASTE_YOUR_ANON_KEY_HERE'\n",
        "os.environ['SUPABASE_URL'] = SUPABASE_URL\n",
        "os.environ['SUPABASE_ANON_KEY'] = SUPABASE_ANON_KEY\n",
        "print('✅ Supabase מוגדר')\n",
        "print(SUPABASE_URL[:35] + '...')\n"
      ]
    },
    {
      "cell_type": "code",
      "execution_count": null,
      "metadata": {},
      "outputs": [],
      "source": [
        "# 4) הרצת הפרסר – בדיקה (3 מכתבים)\n",
        "!python supabase_parser_fixed.py --test\n"
      ]
    },
    {
      "cell_type": "code",
      "execution_count": null,
      "metadata": {},
      "outputs": [],
      "source": [
        "# 5) הרצת פרסר מלא לכרך א (ללא הגבלה)\n",
        "!python supabase_parser_fixed.py --volume א\n"
      ]
    }
  ],
  "metadata": {
    "language_info": {
      "name": "python"
    }
  },
  "nbformat": 4,
  "nbformat_minor": 2
}
